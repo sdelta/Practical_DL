{
 "cells": [
  {
   "cell_type": "markdown",
   "metadata": {
    "cellId": "rqbps0po5jh7gkaa2wqkbx"
   },
   "source": [
    "# Homework 2.2: The Quest For A Better Network\n",
    "\n",
    "In this assignment you will build a monster network to solve Tiny ImageNet image classification.\n",
    "\n",
    "This notebook is intended as a sequel to seminar 3, please give it a try if you haven't done so yet."
   ]
  },
  {
   "cell_type": "markdown",
   "metadata": {
    "cellId": "wxpnt6bj6ame9olh8ah1j"
   },
   "source": [
    "(please read it at least diagonally)\n",
    "\n",
    "* The ultimate quest is to create a network that has as high __accuracy__ as you can push it.\n",
    "* There is a __mini-report__ at the end that you will have to fill in. We recommend reading it first and filling it while you iterate.\n",
    " \n",
    "## Grading\n",
    "* starting at zero points\n",
    "* +20% for describing your iteration path in a report below.\n",
    "* +20% for building a network that gets above 20% accuracy\n",
    "* +10% for beating each of these milestones on __TEST__ dataset:\n",
    "    * 25% (50% points)\n",
    "    * 30% (60% points)\n",
    "    * 32.5% (70% points)\n",
    "    * 35% (80% points)\n",
    "    * 37.5% (90% points)\n",
    "    * 40% (full points)\n",
    "    \n",
    "## Restrictions\n",
    "* Please do NOT use pre-trained networks for this assignment until you reach 40%.\n",
    " * In other words, base milestones must be beaten without pre-trained nets (and such net must be present in the anytask atttachments). After that, you can use whatever you want.\n",
    "* you __can't__ do anything with validation data apart from running the evaluation procedure. Please, split train images on train and validation parts\n",
    "\n",
    "## Tips on what can be done:\n",
    "\n",
    "\n",
    " * __Network size__\n",
    "   * MOAR neurons, \n",
    "   * MOAR layers, ([torch.nn docs](http://pytorch.org/docs/master/nn.html))\n",
    "\n",
    "   * Nonlinearities in the hidden layers\n",
    "     * tanh, relu, leaky relu, etc\n",
    "   * Larger networks may take more epochs to train, so don't discard your net just because it could didn't beat the baseline in 5 epochs.\n",
    "\n",
    "   * Ph'nglui mglw'nafh Cthulhu R'lyeh wgah'nagl fhtagn!\n",
    "\n",
    "\n",
    "### The main rule of prototyping: one change at a time\n",
    "   * By now you probably have several ideas on what to change. By all means, try them out! But there's a catch: __never test several new things at once__.\n",
    "\n",
    "\n",
    "### Optimization\n",
    "   * Training for 100 epochs regardless of anything is probably a bad idea.\n",
    "   * Some networks converge over 5 epochs, others - over 500.\n",
    "   * Way to go: stop when validation score is 10 iterations past maximum\n",
    "   * You should certainly use adaptive optimizers\n",
    "     * rmsprop, nesterov_momentum, adam, adagrad and so on.\n",
    "     * Converge faster and sometimes reach better optima\n",
    "     * It might make sense to tweak learning rate/momentum, other learning parameters, batch size and number of epochs\n",
    "   * __BatchNormalization__ (nn.BatchNorm2d) for the win!\n",
    "     * Sometimes more batch normalization is better.\n",
    "   * __Regularize__ to prevent overfitting\n",
    "     * Add some L2 weight norm to the loss function, PyTorch will do the rest\n",
    "       * Can be done manually or like [this](https://discuss.pytorch.org/t/simple-l2-regularization/139/2).\n",
    "     * Dropout (`nn.Dropout`) - to prevent overfitting\n",
    "       * Don't overdo it. Check if it actually makes your network better\n",
    "   \n",
    "### Convolution architectures\n",
    "   * This task __can__ be solved by a sequence of convolutions and poolings with batch_norm and ReLU seasoning, but you shouldn't necessarily stop there.\n",
    "   * [Inception family](https://hacktilldawn.com/2016/09/25/inception-modules-explained-and-implemented/), [ResNet family](https://towardsdatascience.com/an-overview-of-resnet-and-its-variants-5281e2f56035?gi=9018057983ca), [Densely-connected convolutions (exotic)](https://arxiv.org/abs/1608.06993), [Capsule networks (exotic)](https://arxiv.org/abs/1710.09829)\n",
    "   * Please do try a few simple architectures before you go for resnet-152.\n",
    "   * Warning! Training convolutional networks can take long without GPU. That's okay.\n",
    "     * If you are CPU-only, we still recomment that you try a simple convolutional architecture\n",
    "     * a perfect option is if you can set it up to run at nighttime and check it up at the morning.\n",
    "     * Make reasonable layer size estimates. A 128-neuron first convolution is likely an overkill.\n",
    "     * __To reduce computation__ time by a factor in exchange for some accuracy drop, try using __stride__ parameter. A stride=2 convolution should take roughly 1/4 of the default (stride=1) one.\n",
    " \n",
    "   \n",
    "### Data augmemntation\n",
    "   * getting 5x as large dataset for free is a great \n",
    "     * Zoom-in+slice = move\n",
    "     * Rotate+zoom(to remove black stripes)\n",
    "     * Add Noize (gaussian or bernoulli)\n",
    "   * Simple way to do that (if you have PIL/Image): \n",
    "     * ```from scipy.misc import imrotate,imresize```\n",
    "     * and a few slicing\n",
    "     * Other cool libraries: cv2, skimake, PIL/Pillow\n",
    "   * A more advanced way is to use torchvision transforms:\n",
    "   \n",
    "    ```\n",
    "    transform_train = transforms.Compose([\n",
    "        transforms.RandomCrop(32, padding=4),\n",
    "        transforms.RandomHorizontalFlip(),\n",
    "        transforms.ToTensor(),\n",
    "        transforms.Normalize((0.4914, 0.4822, 0.4465), (0.2023, 0.1994, 0.2010)),\n",
    "    ])\n",
    "    trainset = torchvision.datasets.ImageFolder(root=path_to_tiny_imagenet, train=True, download=True, transform=transform_train)\n",
    "    trainloader = torch.utils.data.DataLoader(trainset, batch_size=128, shuffle=True, num_workers=2)\n",
    "    ```\n",
    "   \n",
    "   * Or use this tool from Keras (requires theano/tensorflow): [tutorial](https://blog.keras.io/building-powerful-image-classification-models-using-very-little-data.html), [docs](https://keras.io/preprocessing/image/)\n",
    "   * [Albumentations](https://github.com/albumentations-team/albumentations) is another awesome solution.\n",
    "   * Stay realistic. There's usually no point in flipping dogs upside down as that is not the way you usually see them.  \n",
    "    * But sometimes there is! Some examples of advanced image augmentation approaches: [mixup](https://arxiv.org/pdf/1710.09412.pdf), [cutmix](https://arxiv.org/pdf/1905.04899.pdf)   "
   ]
  },
  {
   "cell_type": "code",
   "execution_count": 1,
   "metadata": {
    "cellId": "xkaa3usdky9sfz7upl02w"
   },
   "outputs": [
    {
     "name": "stderr",
     "output_type": "stream",
     "text": [
      "Matplotlib is building the font cache; this may take a moment.\n"
     ]
    }
   ],
   "source": [
    "import numpy as np\n",
    "import matplotlib.pyplot as plt\n",
    "%matplotlib inline\n",
    "\n",
    "import torch, torch.nn as nn, torch.nn.functional as F\n",
    "from torch.utils.data import Dataset, DataLoader\n",
    "import torchvision, torchvision.transforms as transforms\n",
    "\n",
    "# Uncomment this to disable \"Skipping walk through <class 'list'>\" warnings in DataSphere's env\n",
    "# %enable_full_walk\n",
    "data_path = '.'"
   ]
  },
  {
   "cell_type": "code",
   "execution_count": 2,
   "metadata": {
    "cellId": "mqe3vhwr7q85q3bi0b3rg"
   },
   "outputs": [],
   "source": [
    "# downloading TinyImagenet\n",
    "# you don't have to run this cell more than once\n",
    "\n",
    "from tiny_img import download_tinyImg200, fix_test_data\n",
    "\n",
    "\n",
    "# uncomment if there is no tiny-imagenet-200 in current dir\n",
    "\n",
    "#download_tinyImg200(data_path)\n",
    "#fix_test_data(data_path)"
   ]
  },
  {
   "cell_type": "markdown",
   "metadata": {
    "cellId": "xyur6yosaod4qmh89z4tcc"
   },
   "source": [
    "We will split `tiny-imagenet-200/train` dataset into train and val parts, and use  `tiny-imagenet-200/val` dataset as a test one.\n",
    "\n",
    "You are free to use either the default ImageFolder Dataset, or the custom one, which will read and store the whole data in RAM. The second one is preferable only when you have a slow disk; make sure then you do have an extra couple of GiBs of memory (it also could take some time to load the images):"
   ]
  },
  {
   "cell_type": "code",
   "execution_count": 3,
   "metadata": {
    "cellId": "zkftuthgyzg8r3sy9dbulo"
   },
   "outputs": [],
   "source": [
    "import os\n",
    "imagenet_dir = os.path.join(data_path, 'tiny-imagenet-200')\n",
    "dataset = torchvision.datasets.ImageFolder(imagenet_dir + '/train', transform=transforms.ToTensor())\n",
    "train_dataset, val_dataset = torch.utils.data.random_split(dataset, [80000, 20000],\n",
    "                                                           generator=torch.Generator().manual_seed(42))\n",
    "test_dataset = torchvision.datasets.ImageFolder(imagenet_dir + '/test', transform=transforms.ToTensor())\n",
    "\n",
    "# OR\n",
    "\n",
    "# from tiny_img_ram import TinyImagenetRAM\n",
    "# dataset = TinyImagenetRAM('tiny-imagenet-200/train', transform=transforms.ToTensor())\n",
    "# train_dataset, val_dataset = torch.utils.data.random_split(dataset, [80000, 20000],\n",
    "#                                                            generator=torch.Generator().manual_seed(42))\n",
    "# test_dataset = TinyImagenetRAM('tiny-imagenet-200/val', transform=transforms.ToTensor())"
   ]
  },
  {
   "cell_type": "markdown",
   "metadata": {},
   "source": [
    "### Initialize structures for saving results of training"
   ]
  },
  {
   "cell_type": "code",
   "execution_count": 4,
   "metadata": {},
   "outputs": [
    {
     "name": "stdout",
     "output_type": "stream",
     "text": [
      "\n"
     ]
    }
   ],
   "source": [
    "import datetime\n",
    "import tempfile\n",
    "import random\n",
    "import string\n",
    "from os import path\n",
    "\n",
    "# printing lowercase\n",
    "letters = string.ascii_lowercase\n",
    "print (  )\n",
    "\n",
    "md_file_prefix = 'model_results_'\n",
    "\n",
    "def get_temp_filename(name):\n",
    "    result = None\n",
    "    while result is None or path.exists(result):\n",
    "        result =  name + '_' + ''.join(random.choice(letters) for i in range(5))\n",
    "    return result\n",
    "\n",
    "class ModelResults(object):\n",
    "    def __init__(self, name):\n",
    "        self.name = name\n",
    "        self.timestamp = datetime.datetime.now()\n",
    "        self.model_filename = get_temp_filename('models/' + name)\n",
    "        self.comment = ''\n",
    "        self.descr = ''\n",
    "        self.params = {}\n",
    "        self.stats = {}"
   ]
  },
  {
   "cell_type": "markdown",
   "metadata": {},
   "source": [
    "### Describe model params"
   ]
  },
  {
   "cell_type": "code",
   "execution_count": 67,
   "metadata": {},
   "outputs": [],
   "source": [
    "md = ModelResults('conv_net')\n",
    "md.params = {\n",
    "    'batch_size': 128,\n",
    "    'lr': 0.00001,\n",
    "    'optim': 'Adam'\n",
    "}\n",
    "md.comment = 'triple conv net with batchnorm and cached data augmentation '"
   ]
  },
  {
   "cell_type": "code",
   "execution_count": 68,
   "metadata": {},
   "outputs": [
    {
     "name": "stdout",
     "output_type": "stream",
     "text": [
      "{'batch_size': 128, 'lr': 1e-05, 'optim': 'Adam'}\n"
     ]
    }
   ],
   "source": [
    "print(md.params)"
   ]
  },
  {
   "cell_type": "markdown",
   "metadata": {},
   "source": [
    "## Model and training definition"
   ]
  },
  {
   "cell_type": "markdown",
   "metadata": {},
   "source": [
    "### Augment dataset"
   ]
  },
  {
   "cell_type": "code",
   "execution_count": 69,
   "metadata": {},
   "outputs": [],
   "source": [
    "import torch.utils.data as data\n",
    "\n",
    "\n",
    "class AugDataset(data.Dataset):\n",
    "\n",
    "    def __init__(self, base_dataset):\n",
    "        self.base_dataset = base_dataset\n",
    "        self.cache = [None] * len(base_dataset)\n",
    "        self.transform = torch.nn.Sequential(\n",
    "            torchvision.transforms.ColorJitter(hue=.05, saturation=.05),\n",
    "            torchvision.transforms.RandomHorizontalFlip(),\n",
    "            torchvision.transforms.RandomRotation(10)\n",
    "        )\n",
    "    \n",
    "    \n",
    "    def __getitem__(self, idx):\n",
    "        if self.cache[idx] is None:\n",
    "            img, label = self.base_dataset[idx]\n",
    "            self.cache[idx] = (self.transform(img), label)\n",
    "        return self.cache[idx]\n",
    "        \n",
    "    def __len__(self):\n",
    "        return len(self.base_dataset)\n",
    "\n",
    "\n",
    "train_aug_only_dataset = AugDataset(train_dataset)\n",
    "\n",
    "train_aug_dataset = torch.utils.data.ConcatDataset([train_aug_only_dataset,train_dataset])"
   ]
  },
  {
   "cell_type": "code",
   "execution_count": 70,
   "metadata": {},
   "outputs": [
    {
     "data": {
      "image/png": "[encoded data removed]",
      "text/plain": [
       "<Figure size 432x288 with 30 Axes>"
      ]
     },
     "metadata": {},
     "output_type": "display_data"
    }
   ],
   "source": [
    "x_axis = 3\n",
    "y_axis = 5\n",
    "f, axarr = plt.subplots(y_axis, 2 * x_axis)\n",
    "for y in range(y_axis):\n",
    "    for x in range(x_axis):\n",
    "        axarr[y,x].imshow(transforms.ToPILImage()(train_dataset[x_axis * y + x][0]))\n",
    "        axarr[y, x].set(xticklabels=[], yticklabels=[], xticks=[], yticks=[])\n",
    "        axarr[y,x_axis + x].imshow(transforms.ToPILImage()(train_aug_only_dataset[x_axis * y + x][0]))\n",
    "        axarr[y, x_axis + x].set(xticklabels=[], yticklabels=[], xticks=[], yticks=[])"
   ]
  },
  {
   "cell_type": "code",
   "execution_count": null,
   "metadata": {},
   "outputs": [],
   "source": []
  },
  {
   "cell_type": "code",
   "execution_count": 71,
   "metadata": {},
   "outputs": [],
   "source": [
    "train_batch_gen = torch.utils.data.DataLoader(train_aug_dataset, \n",
    "                                              batch_size=md.params['batch_size'],\n",
    "                                              shuffle=True,\n",
    "                                              num_workers=1)\n",
    "val_batch_gen = torch.utils.data.DataLoader(val_dataset, \n",
    "                                              batch_size=md.params['batch_size'],\n",
    "                                              shuffle=True,\n",
    "                                              num_workers=1)\n",
    "test_batch_gen = torch.utils.data.DataLoader(val_dataset, \n",
    "                                              batch_size=md.params['batch_size'],\n",
    "                                              shuffle=True,\n",
    "                                              num_workers=1)"
   ]
  },
  {
   "cell_type": "code",
   "execution_count": 72,
   "metadata": {
    "cellId": "g5yf9z66xdpvq688ze2d8",
    "id": "7QF2hMVxDMoY"
   },
   "outputs": [],
   "source": [
    "#!L\n",
    "import torch, torch.nn as nn\n",
    "import torch.nn.functional as F\n",
    "from torch.autograd import Variable\n"
   ]
  },
  {
   "cell_type": "code",
   "execution_count": 73,
   "metadata": {},
   "outputs": [],
   "source": [
    "torch.cuda.empty_cache()"
   ]
  },
  {
   "cell_type": "markdown",
   "metadata": {
    "cellId": "6yn15hpuolcmryork2oqs",
    "id": "DJ6QKG3hDMoa"
   },
   "source": [
    "Let's start with a dense network for our baseline:"
   ]
  },
  {
   "cell_type": "code",
   "execution_count": 75,
   "metadata": {
    "cellId": "f985tf2dvssqwmyc6w99d",
    "id": "u_mbfRXMDMob"
   },
   "outputs": [
    {
     "data": {
      "text/plain": [
       "device(type='cuda', index=0)"
      ]
     },
     "execution_count": 75,
     "metadata": {},
     "output_type": "execute_result"
    }
   ],
   "source": [
    "#!L\n",
    "model = nn.Sequential()\n",
    "\n",
    "# reshape from \"images\" to flat vectors\n",
    "\n",
    "\n",
    "model.add_module('conv1', nn.Conv2d(in_channels=3, out_channels=128, kernel_size=3, padding='same'))\n",
    "model.add_module('batchnorm_conv1', nn.BatchNorm2d(128))\n",
    "model.add_module('conv1_relu', nn.ReLU())\n",
    "model.add_module('pool1', nn.MaxPool2d(2))\n",
    "\n",
    "model.add_module('conv2', nn.Conv2d(in_channels=128, out_channels=256, kernel_size=3, padding='same'))\n",
    "model.add_module('batchnorm_conv2', nn.BatchNorm2d(256))\n",
    "model.add_module('conv2_relu', nn.ReLU())\n",
    "model.add_module('pool2', nn.MaxPool2d(2))\n",
    "\n",
    "model.add_module('conv3', nn.Conv2d(in_channels=256, out_channels=512, kernel_size=3, padding='same'))\n",
    "model.add_module('batchnorm_conv3', nn.BatchNorm2d(512))\n",
    "model.add_module('conv3_relu', nn.ReLU())\n",
    "model.add_module('pool3', nn.MaxPool2d(2))\n",
    "\n",
    "\n",
    "model.add_module('flatten', nn.Flatten())\n",
    "# dense \"head\"\n",
    "model.add_module('dense1', nn.Linear(512 * 64 * 64 // 64, 1024))\n",
    "model.add_module('batchnorm_dense1', nn.BatchNorm1d(1024))\n",
    "model.add_module('dense1_relu', nn.ReLU())\n",
    "model.add_module('dropout2', nn.Dropout(0.30))\n",
    "model.add_module('dense1_relu', nn.ReLU())\n",
    "model.add_module('dense2_logits', nn.Linear(1024, 200)) # logits for 200 classes\n",
    "\n",
    "\n",
    "\n",
    "if torch.cuda.is_available():\n",
    "    device = torch.device('cuda:0')\n",
    "else:\n",
    "    device = torch.device('cpu')\n",
    "model.to(device)\n",
    "device"
   ]
  },
  {
   "cell_type": "code",
   "execution_count": 76,
   "metadata": {},
   "outputs": [
    {
     "name": "stdout",
     "output_type": "stream",
     "text": [
      "Sequential(\n",
      "  (conv1): Conv2d(3, 128, kernel_size=(3, 3), stride=(1, 1), padding=same)\n",
      "  (batchnorm_conv1): BatchNorm2d(128, eps=1e-05, momentum=0.1, affine=True, track_running_stats=True)\n",
      "  (conv1_relu): ReLU()\n",
      "  (pool1): MaxPool2d(kernel_size=2, stride=2, padding=0, dilation=1, ceil_mode=False)\n",
      "  (conv2): Conv2d(128, 256, kernel_size=(3, 3), stride=(1, 1), padding=same)\n",
      "  (batchnorm_conv2): BatchNorm2d(256, eps=1e-05, momentum=0.1, affine=True, track_running_stats=True)\n",
      "  (conv2_relu): ReLU()\n",
      "  (pool2): MaxPool2d(kernel_size=2, stride=2, padding=0, dilation=1, ceil_mode=False)\n",
      "  (conv3): Conv2d(256, 512, kernel_size=(3, 3), stride=(1, 1), padding=same)\n",
      "  (batchnorm_conv3): BatchNorm2d(512, eps=1e-05, momentum=0.1, affine=True, track_running_stats=True)\n",
      "  (conv3_relu): ReLU()\n",
      "  (pool3): MaxPool2d(kernel_size=2, stride=2, padding=0, dilation=1, ceil_mode=False)\n",
      "  (flatten): Flatten(start_dim=1, end_dim=-1)\n",
      "  (dense1): Linear(in_features=32768, out_features=1024, bias=True)\n",
      "  (batchnorm_dense1): BatchNorm1d(1024, eps=1e-05, momentum=0.1, affine=True, track_running_stats=True)\n",
      "  (dense1_relu): ReLU()\n",
      "  (dropout2): Dropout(p=0.3, inplace=False)\n",
      "  (dense2_logits): Linear(in_features=1024, out_features=200, bias=True)\n",
      ")\n"
     ]
    }
   ],
   "source": [
    "#from torchinfo import summary\n",
    "\n",
    "md.descr = str(model)\n",
    "print(model)\n",
    "#summary(model)\n",
    "#summary(model, (128, 3, 3, 3))"
   ]
  },
  {
   "cell_type": "code",
   "execution_count": 77,
   "metadata": {},
   "outputs": [],
   "source": [
    "for layer in model.children():\n",
    "   if hasattr(layer, 'reset_parameters'):\n",
    "       layer.reset_parameters()"
   ]
  },
  {
   "cell_type": "code",
   "execution_count": 78,
   "metadata": {},
   "outputs": [],
   "source": [
    "torch.cuda.reset_peak_memory_stats()"
   ]
  },
  {
   "cell_type": "markdown",
   "metadata": {
    "cellId": "7dh3d8xmkeinv4kx0g079",
    "id": "DvugZZbeDMoe"
   },
   "source": [
    "As in our basic tutorial, we train our model with negative log-likelihood aka crossentropy."
   ]
  },
  {
   "cell_type": "code",
   "execution_count": 79,
   "metadata": {
    "cellId": "3y7p7o6s7vecpf3kpktj8v",
    "id": "cGEhRWMYDMof"
   },
   "outputs": [],
   "source": [
    "#!L\n",
    "def compute_loss(X_batch, y_batch):\n",
    "    X_batch = torch.FloatTensor(X_batch).to(device=device)\n",
    "    y_batch = torch.LongTensor(y_batch).to(device=device)\n",
    "    logits = model.to(device)(X_batch)\n",
    "    return F.cross_entropy(logits, y_batch).mean()"
   ]
  },
  {
   "cell_type": "markdown",
   "metadata": {
    "cellId": "p4a6luymigbplsoliurw",
    "id": "kEhnKaujDMoi"
   },
   "source": [
    "### Training on minibatches\n",
    "* We got 100k images, that's way too many for a full-batch SGD. Let's train on minibatches instead\n",
    "* Below is a function that splits the training sample into minibatches"
   ]
  },
  {
   "cell_type": "code",
   "execution_count": 80,
   "metadata": {
    "cellId": "w8rht9ygh7uns89ypozln",
    "id": "sEy0LiHxDMol"
   },
   "outputs": [
    {
     "name": "stdout",
     "output_type": "stream",
     "text": [
      "Epoch 1 of 50 took 215.540s\n",
      "  training loss (in-iteration): \t4.321626\n",
      "  validation accuracy: \t\t\t17.52 %\n",
      "Epoch 2 of 50 took 216.099s\n",
      "  training loss (in-iteration): \t3.856120\n",
      "  validation accuracy: \t\t\t22.38 %\n",
      "Epoch 3 of 50 took 219.285s\n",
      "  training loss (in-iteration): \t3.529441\n",
      "  validation accuracy: \t\t\t25.29 %\n",
      "Epoch 4 of 50 took 219.370s\n",
      "  training loss (in-iteration): \t3.259037\n",
      "  validation accuracy: \t\t\t27.21 %\n",
      "Epoch 5 of 50 took 217.589s\n",
      "  training loss (in-iteration): \t3.020405\n",
      "  validation accuracy: \t\t\t28.69 %\n",
      "Epoch 6 of 50 took 217.534s\n",
      "  training loss (in-iteration): \t2.792145\n",
      "  validation accuracy: \t\t\t29.52 %\n",
      "Epoch 7 of 50 took 217.552s\n",
      "  training loss (in-iteration): \t2.584081\n",
      "  validation accuracy: \t\t\t30.21 %\n",
      "Epoch 8 of 50 took 217.247s\n",
      "  training loss (in-iteration): \t2.382575\n",
      "  validation accuracy: \t\t\t30.75 %\n",
      "Epoch 9 of 50 took 217.598s\n",
      "  training loss (in-iteration): \t2.187971\n",
      "  validation accuracy: \t\t\t31.09 %\n",
      "Epoch 10 of 50 took 218.133s\n",
      "  training loss (in-iteration): \t2.014773\n",
      "  validation accuracy: \t\t\t31.27 %\n",
      "Epoch 11 of 50 took 216.886s\n",
      "  training loss (in-iteration): \t1.857546\n",
      "  validation accuracy: \t\t\t31.40 %\n",
      "Epoch 12 of 50 took 216.148s\n",
      "  training loss (in-iteration): \t1.699384\n",
      "  validation accuracy: \t\t\t31.61 %\n",
      "Epoch 13 of 50 took 216.533s\n",
      "  training loss (in-iteration): \t1.573399\n",
      "  validation accuracy: \t\t\t31.70 %\n",
      "Epoch 14 of 50 took 216.909s\n",
      "  training loss (in-iteration): \t1.458747\n",
      "  validation accuracy: \t\t\t31.87 %\n",
      "Epoch 15 of 50 took 216.523s\n",
      "  training loss (in-iteration): \t1.362655\n",
      "  validation accuracy: \t\t\t32.12 %\n",
      "Epoch 16 of 50 took 218.049s\n",
      "  training loss (in-iteration): \t1.267997\n",
      "  validation accuracy: \t\t\t31.90 %\n",
      "Epoch 17 of 50 took 217.675s\n",
      "  training loss (in-iteration): \t1.192987\n",
      "  validation accuracy: \t\t\t32.14 %\n",
      "Epoch 18 of 50 took 217.573s\n",
      "  training loss (in-iteration): \t1.122399\n",
      "  validation accuracy: \t\t\t32.25 %\n",
      "Epoch 19 of 50 took 217.488s\n",
      "  training loss (in-iteration): \t1.060223\n",
      "  validation accuracy: \t\t\t32.16 %\n",
      "Epoch 20 of 50 took 218.449s\n",
      "  training loss (in-iteration): \t1.013795\n",
      "  validation accuracy: \t\t\t32.49 %\n",
      "Epoch 21 of 50 took 218.007s\n",
      "  training loss (in-iteration): \t0.961403\n",
      "  validation accuracy: \t\t\t32.09 %\n",
      "Epoch 22 of 50 took 217.766s\n",
      "  training loss (in-iteration): \t0.909083\n",
      "  validation accuracy: \t\t\t32.37 %\n",
      "Epoch 23 of 50 took 217.317s\n",
      "  training loss (in-iteration): \t0.870882\n",
      "  validation accuracy: \t\t\t31.99 %\n",
      "Epoch 24 of 50 took 216.856s\n",
      "  training loss (in-iteration): \t0.835222\n",
      "  validation accuracy: \t\t\t32.37 %\n",
      "Epoch 25 of 50 took 217.083s\n",
      "  training loss (in-iteration): \t0.804482\n",
      "  validation accuracy: \t\t\t32.32 %\n",
      "Epoch 26 of 50 took 217.022s\n",
      "  training loss (in-iteration): \t0.759701\n",
      "  validation accuracy: \t\t\t32.29 %\n"
     ]
    }
   ],
   "source": [
    "import numpy as np\n",
    "\n",
    "batch_size = md.params['batch_size']\n",
    "\n",
    "opt = getattr(torch.optim, md.params['optim'])(model.parameters(), lr=md.params['lr'])\n",
    "\n",
    "train_loss = []\n",
    "val_accuracy = []\n",
    "\n",
    "num_epochs = 50 # total amount of full passes over training data\n",
    "\n",
    "\n",
    "best_epoch = 0\n",
    "best_train_acc = -1\n",
    "best_val_acc = -1\n",
    "\n",
    "\n",
    "import time\n",
    "\n",
    "start_counter = time.perf_counter()\n",
    "\n",
    "\n",
    "for epoch in range(num_epochs):\n",
    "    start_time = time.time()\n",
    "    model.train(True) # enable dropout / batch_norm training behavior\n",
    "    for (X_batch, y_batch) in train_batch_gen:\n",
    "        # train on batch\n",
    "        loss = compute_loss(X_batch, y_batch)\n",
    "        loss.backward()\n",
    "        opt.step()\n",
    "        opt.zero_grad()\n",
    "        train_loss.append(loss.cpu().data.numpy())\n",
    "    \n",
    "    model.train(False) # disable dropout / use averages for batch_norm\n",
    "    for X_batch, y_batch in val_batch_gen:\n",
    "        logits = model(Variable(torch.FloatTensor(X_batch)).to(device))\n",
    "        y_pred = logits.max(1)[1].data\n",
    "        val_accuracy.append(np.mean( (y_batch.cpu() == y_pred.cpu()).numpy() ))\n",
    "\n",
    "    \n",
    "    # Then we print the results for this epoch:\n",
    "    print(\"Epoch {} of {} took {:.3f}s\".format(\n",
    "        epoch + 1, num_epochs, time.time() - start_time))\n",
    "    train_acc = np.mean(train_loss[-len(train_dataset) // batch_size :])\n",
    "    print(\"  training loss (in-iteration): \\t{:.6f}\".format(train_acc))\n",
    "    val_acc = np.mean(val_accuracy[-len(val_dataset) // batch_size :])\n",
    "    print(\"  validation accuracy: \\t\\t\\t{:.2f} %\".format(val_acc * 100))\n",
    "    \n",
    "    best_train_acc = train_acc\n",
    "    if best_val_acc < val_acc:\n",
    "        best_val_acc = val_acc\n",
    "        best_epoch = epoch\n",
    "        torch.save(model.state_dict(), md.model_filename)\n",
    "    if epoch > best_epoch + 5:\n",
    "        break\n",
    "    \n",
    "stop_counter = time.perf_counter()\n",
    "peak_ram = torch.cuda.max_memory_allocated()"
   ]
  },
  {
   "cell_type": "markdown",
   "metadata": {
    "cellId": "42doe8nw4umunw6t9k3m",
    "id": "77q6ffk0DMon"
   },
   "source": [
    "Don't wait for full 100 epochs. You can interrupt training after 5-20 epochs once validation accuracy stops going up.\n",
    "```\n",
    "```\n",
    "\n",
    "### Final test"
   ]
  },
  {
   "cell_type": "code",
   "execution_count": 52,
   "metadata": {
    "cellId": "3bwb0sgr9emg6lbxu9q0uw",
    "id": "KmK71tpNDMoo"
   },
   "outputs": [
    {
     "name": "stdout",
     "output_type": "stream",
     "text": [
      "Final results:\n",
      "  val accuracy:\t\t26.92 %\n",
      "Achievement unlocked: 60lvl Warlock!\n"
     ]
    }
   ],
   "source": [
    "print(\"Final results:\")\n",
    "print(\"  val accuracy:\\t\\t{:.2f} %\".format(\n",
    "    best_val_acc * 100))\n",
    "\n",
    "if best_val_acc * 100 > 70:\n",
    "    print(\"U'r freakin' amazin'!\")\n",
    "elif best_val_acc * 100 > 50:\n",
    "    print(\"Achievement unlocked: 110lvl Warlock!\")\n",
    "elif best_val_acc * 100 > 40:\n",
    "    print(\"Achievement unlocked: 80lvl Warlock!\")\n",
    "elif best_val_acc * 100 > 30:\n",
    "    print(\"Achievement unlocked: 70lvl Warlock!\")\n",
    "elif best_val_acc * 100 > 20:\n",
    "    print(\"Achievement unlocked: 60lvl Warlock!\")\n",
    "else:\n",
    "    print(\"We need more magic! Follow instructons below\")"
   ]
  },
  {
   "cell_type": "markdown",
   "metadata": {
    "cellId": "61mhdyw7guo0wuubi3ohc"
   },
   "source": [
    "When everything is done, please calculate accuracy on `tiny-imagenet-200/val`"
   ]
  },
  {
   "cell_type": "code",
   "execution_count": 53,
   "metadata": {
    "cellId": "9om7xr4hledgg42mo0h6r6"
   },
   "outputs": [],
   "source": [
    "model.load_state_dict(torch.load(md.model_filename))\n",
    "model.train(False) # disable dropout / use averages for batch_norm\n",
    "test_batch_acc = []\n",
    "for X_batch, y_batch in test_batch_gen:\n",
    "    logits = model(Variable(torch.FloatTensor(X_batch)).cuda())\n",
    "    y_pred = logits.max(1)[1].data\n",
    "    test_batch_acc.append(np.mean( (y_batch.cpu() == y_pred.cpu()).numpy() ))\n",
    "\n",
    "\n",
    "test_accuracy = np.mean(test_batch_acc)"
   ]
  },
  {
   "cell_type": "code",
   "execution_count": 54,
   "metadata": {
    "cellId": "12y9s3qrcpnsur64jcte8g"
   },
   "outputs": [
    {
     "name": "stdout",
     "output_type": "stream",
     "text": [
      "Final results:\n",
      "  test accuracy:\t\t26.97 %\n",
      "Achievement unlocked: 60lvl Warlock!\n"
     ]
    }
   ],
   "source": [
    "print(\"Final results:\")\n",
    "print(\"  test accuracy:\\t\\t{:.2f} %\".format(\n",
    "    test_accuracy * 100))\n",
    "\n",
    "if test_accuracy * 100 > 40:\n",
    "    print(\"Achievement unlocked: 110lvl Warlock!\")\n",
    "elif test_accuracy * 100 > 35:\n",
    "    print(\"Achievement unlocked: 80lvl Warlock!\")\n",
    "elif test_accuracy * 100 > 30:\n",
    "    print(\"Achievement unlocked: 70lvl Warlock!\")\n",
    "elif test_accuracy * 100 > 25:\n",
    "    print(\"Achievement unlocked: 60lvl Warlock!\")\n",
    "else:\n",
    "    print(\"We need more magic! Follow instructons below\")"
   ]
  },
  {
   "cell_type": "markdown",
   "metadata": {},
   "source": [
    "## save model stats"
   ]
  },
  {
   "cell_type": "code",
   "execution_count": 58,
   "metadata": {},
   "outputs": [],
   "source": [
    "md.stats = {\n",
    "    'total_epoch': epoch + 1,\n",
    "    'total_time': start_counter - stop_counter,\n",
    "    'peak_ram': peak_ram,\n",
    "    'best_epoch': best_epoch,\n",
    "    'best_train_acc': best_train_acc,\n",
    "    'best_val_acc': best_val_acc,\n",
    "    'test_acc': test_accuracy\n",
    "}"
   ]
  },
  {
   "cell_type": "code",
   "execution_count": 59,
   "metadata": {},
   "outputs": [
    {
     "name": "stdout",
     "output_type": "stream",
     "text": [
      "saved model stats in models_stats/conv_net_erner\n"
     ]
    }
   ],
   "source": [
    "import pickle\n",
    "\n",
    "name = get_temp_filename('models_stats/' + md.name)\n",
    "with open(name, 'wb') as fout:\n",
    "    pickle.dump(md, fout)\n",
    "print('saved model stats in {}'.format(name))"
   ]
  },
  {
   "cell_type": "code",
   "execution_count": 20,
   "metadata": {},
   "outputs": [
    {
     "name": "stdout",
     "output_type": "stream",
     "text": [
      "conv_net:\n",
      "{'batch_size': 50, 'lr': 1e-05, 'optim': 'AdamW'}\n"
     ]
    }
   ],
   "source": [
    "with open('models_stats/conv_net_guwtz', 'rb') as fin:\n",
    "    new_md = pickle.load(fin)\n",
    "print('{}:\\n{}'.format(new_md.name, new_md.params))"
   ]
  },
  {
   "cell_type": "markdown",
   "metadata": {
    "cellId": "yr08a2dr7ymtgsrdtpx4cf"
   },
   "source": [
    "```\n",
    "\n",
    "```\n",
    "\n",
    "```\n",
    "\n",
    "```\n",
    "\n",
    "```\n",
    "\n",
    "```\n",
    "\n",
    "\n",
    "# Report\n",
    "\n",
    "All creative approaches are highly welcome, but at the very least it would be great to mention\n",
    "* the idea;\n",
    "* brief history of tweaks and improvements;\n",
    "* what is the final architecture and why?\n",
    "* what is the training method and, again, why?\n",
    "* Any regularizations and other techniques applied and their effects;\n",
    "\n",
    "\n",
    "There is no need to write strict mathematical proofs (unless you want to).\n",
    " * \"I tried this, this and this, and the second one turned out to be better. And i just didn't like the name of that one\" - OK, but can be better\n",
    " * \"I have analized these and these articles|sources|blog posts, tried that and that to adapt them to my problem and the conclusions are such and such\" - the ideal one\n",
    " * \"I took that code that demo without understanding it, but i'll never confess that and instead i'll make up some pseudoscientific explaination\" - __not_ok__"
   ]
  },
  {
   "cell_type": "markdown",
   "metadata": {
    "cellId": "5o8ejms08zgpm096pducuk"
   },
   "source": [
    "### Hi, my name is `___ ___`, and here's my story\n",
    "\n",
    "A long time ago in a galaxy far far away, when it was still more than an hour before the deadline, i got an idea:\n",
    "\n",
    "##### I gonna build a neural network, that\n",
    "* brief text on what was\n",
    "* the original idea\n",
    "* and why it was so\n",
    "\n",
    "How could i be so naive?!\n",
    "\n",
    "##### One day, with no signs of warning,\n",
    "This thing has finally converged and\n",
    "* Some explaination about what were the results,\n",
    "* what worked and what didn't\n",
    "* most importantly - what next steps were taken, if any\n",
    "* and what were their respective outcomes\n",
    "\n",
    "##### Finally, after __  iterations, __ mugs of [tea/coffee]\n",
    "* what was the final architecture\n",
    "* as well as training method and tricks\n",
    "\n",
    "That, having wasted ____ [minutes, hours or days] of my life training, got\n",
    "\n",
    "* accuracy on training: __\n",
    "* accuracy on validation: __\n",
    "* accuracy on test: __\n",
    "\n",
    "\n",
    "[an optional afterword and mortal curses on assignment authors]"
   ]
  }
 ],
 "metadata": {
  "kernelspec": {
   "display_name": "conda_pytorch_p38",
   "language": "python",
   "name": "conda_pytorch_p38"
  },
  "language_info": {
   "codemirror_mode": {
    "name": "ipython",
    "version": 3
   },
   "file_extension": ".py",
   "mimetype": "text/x-python",
   "name": "python",
   "nbconvert_exporter": "python",
   "pygments_lexer": "ipython3",
   "version": "3.8.12"
  },
  "notebookId": "65f9de61-b446-4240-9ae4-a038dd4de505"
 },
 "nbformat": 4,
 "nbformat_minor": 4
}
